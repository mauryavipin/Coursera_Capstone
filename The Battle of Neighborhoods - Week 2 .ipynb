{
 "cells": [
  {
   "cell_type": "markdown",
   "metadata": {},
   "source": [
    "# Coursera Capstone Project\n",
    "\n",
    "## The Battle of Neighborhoods - Final Report (Week 1 and 2)\n"
   ]
  },
  {
   "cell_type": "markdown",
   "metadata": {},
   "source": [
    "### Upload Libraries Required"
   ]
  },
  {
   "cell_type": "code",
   "execution_count": null,
   "metadata": {
    "collapsed": false
   },
   "outputs": [],
   "source": [
    "import numpy as np # library to handle data in a vectorized manner\n",
    "import time\n",
    "import pandas as pd # library for data analsysis\n",
    "pd.set_option('display.max_columns', None)\n",
    "pd.set_option('display.max_rows', None)\n",
    "\n",
    "import json # library to handle JSON files\n",
    "import requests # library to handle requests\n",
    "from pandas.io.json import json_normalize # tranform JSON file into a pandas dataframe\n",
    "\n",
    "\n",
    "!conda install -c conda-forge geopy --yes # uncomment this line if you haven't completed the Foursquare API lab\n",
    "from geopy.geocoders import Nominatim # convert an address into latitude and longitude values\n",
    "\n",
    "!conda install -c conda-forge folium=0.5.0 --yes # uncomment this line if you haven't completed the Foursquare API lab\n",
    "import folium # map rendering library\n",
    "import folium # map rendering library\n",
    "from folium import plugins\n",
    "\n",
    "# Matplotlib and associated plotting modules\n",
    "import matplotlib.cm as cm\n",
    "import matplotlib.colors as colors\n",
    "\n",
    "import seaborn as sns\n",
    "\n",
    "# import k-means from clustering stage\n",
    "from sklearn.cluster import KMeans\n",
    "\n",
    "\n",
    "\n",
    "print('Libraries imported.')"
   ]
  },
  {
   "cell_type": "markdown",
   "metadata": {},
   "source": [
    "# Coursera Capstone - REPORT \n",
    "\n",
    "### Content\n",
    "\n",
    "1.\tIntroduction Section : \n",
    "\t\n",
    "    1.1 Discussion of the \"backgroung situation\" leading to the problem at hand:\n",
    "    \n",
    "    1.2 Problem to be resolved\n",
    "    \n",
    "    1.3 Audience for this project.\n",
    "    \n",
    "    \n",
    "2.\tData Section:  \n",
    "\n",
    "\t2.1 Data of Current Situation (current residence place)\n",
    "    \n",
    "    2.2 Data required to resolve the problem\n",
    "    \n",
    "    2.3 Data sources and data manipulation\n",
    "    \n",
    "    \n",
    "3.\tMethodology section : \n",
    "\n",
    "\t3.1 Process steps and strategy to resolve the problem\n",
    "    \n",
    "    3.2 Data Science Methods, machine learing, mapping tools and exploratory data analysis.\n",
    "    \n",
    "    \n",
    "4.\tResults section \n",
    "\n",
    "\tDiscussion of the results and how they help to take a decision.\n",
    "    \n",
    "    \n",
    "5.\tDiscussion section \n",
    "\n",
    "\tElaboration and discussion on any observations and/or recommendations for improvement.\n",
    "    \n",
    "    \n",
    "6.\tConclusion section \n",
    "\n",
    "\tDesicison taken and Report Conclusion."
   ]
  },
  {
   "cell_type": "markdown",
   "metadata": {},
   "source": [
    "# 1.\tIntroduction Section : \n",
    "### Discussion of the business problem and the audience who would be interested in this project.\n"
   ]
  },
  {
   "cell_type": "markdown",
   "metadata": {},
   "source": [
    "### 1.1 Scenario and  Background\n",
    "\n",
    "I am a data scientist currently residing in Downtown Singapore. \n",
    "I currently live within walking distance to Downtown \"Telok Ayer MRT metro station\" therefore I have access to good public transportation to work. Likewise, I enjoy many ammenities in the neighborhood , such as international cousine restaurants, cafes, food shops and entertainment.\n",
    "I have been offered a great opportunity to work in Manhattan, NY. Although, I am very excited about it, I am a bit stress toward the process to secure a comparable place to live in Manhattan. Therefore, I decided to apply the learned skills during the Coursera course to explore ways to make sure my decision is factual and rewarding.\n",
    "Of course, there are alternatives to achieve the answer using available Google and Social media tools, but it rewarding doing it myself with learned tools.\n",
    "\n",
    "\n",
    "    "
   ]
  },
  {
   "cell_type": "markdown",
   "metadata": {},
   "source": [
    "### 1.2  Problem to be resolved:   \n",
    "\n",
    "The challenge to resolve is being able to find a rental apartment unit in Manhattan NY that offers similar characteristics and benefits to my current situation. Therefore, in order to set a basis for comparison, I want to find a renta unit subject to the following conditions: \n",
    "- Apartment with min 2 bedrooms with monthly rent not to exceed US$7000/month\n",
    "- Unit located within walking distance (<=1.0 mile, 1.6 km) from a subway metro station in Manhattan\n",
    "- Area with ammenities and venues similar to the ones described for current location ( See item 2.1)\n",
    "\n",
    "### 1.3 Interested Audience\n",
    "I believe this is a relevant project for a person or entity considering moving to a major city in Europe, US or Asia, since the approach and methodologies used here are applicable in all cases. The use of FourSquare data and mapping techniques combined with data analysis will help resolve the key questions arisen. Lastly, this project is a good practical case toward the development of Data Science skills.\n"
   ]
  },
  {
   "cell_type": "markdown",
   "metadata": {},
   "source": [
    "# 2. Data Section:\n",
    "### Description of the data and its sources that will be used to solve the problem"
   ]
  },
  {
   "cell_type": "markdown",
   "metadata": {},
   "source": [
    "### 2.1 Data of Current Situation\n",
    "I Currently reside in the neighborhood of 'Mccallum Street' in Downtonw Singapore. \n",
    "I use Foursquare to identify the venues around the area of residence which are then shown in the Singapore map shown in methodology and execution in section 3.0 . It serves as a reference for comparison with the desired future location in Manhattan NY"
   ]
  },
  {
   "cell_type": "markdown",
   "metadata": {},
   "source": [
    "### 2.2 Data Required to resolve the problem\n",
    "In order to make a good choice of a similar apartment in Manhattan NY, the following data is required:\n",
    "List/Information on neighborhoods form Manhattan with their Geodata ( latitud and longitud.\n",
    "List/Information about the subway metro stations in Manhattan with geodata.\n",
    "Listed apartments for rent in Manhattan area with descriptions ( how many beds, price, location, address)\n",
    "Venues and ammenities in the Manhattan neighborhoods (e.g. top 10)\n",
    "2.3 sources and manipulation\n",
    "The list of Manhattan neighborhoods is worked out during LAb exercise during the course. A csv file was created which will be read in order to create a dataframe and its mapping. The csv file 'mh_neigh_data.csv'  has the following below data structure. The file will be directly read to the Jupiter Notebook for convenience and space savings. The clustering of neighborhoods and mapping will be shown however. An algorythm was used to determine the geodata from Nominatim . The actual algorythm coding may be shown in 'markdown' mode becasues it takes time to run. \n",
    "\n",
    "mh_neigh_data.tail():\n",
    "\n",
    "              Borough    Neighborhood    Latitude    Longitude\n",
    "\n",
    "          35    Manhattan    Turtle Bay    40.752042    -73.967708\n",
    "\n",
    "          36    Manhattan    Tudor City    40.746917    -73.971219\n",
    "\n",
    "          37    Manhattan    Stuyvesant Town    40.731000    -73.974052\n",
    "\n",
    "          38    Manhattan    Flatiron    40.739673    -73.990947\n",
    "\n",
    "          39    Manhattan    Hudson Yards    40.756658    -74.000111\n",
    "  \n",
    "A list of Manhattan subway metro stops was complied in Numbers (Apple excel) and it was complemeted with wikipedia data ( https://en.wikipedia.org/wiki/List_of_New_York_City_Subway_stations_in_Manhattan) and information from NY Transit authority and Google maps (https://www.google.com/maps/search/manhattan+subway+metro+stations/@40.7837297,-74.1033043,11z/data=!3m1!4b1) for a final consolidated list of subway stops names and their address. The geolocation was obtained via an algorythm using Nominatim. Details will be shown in the execution of methodolody in section 3.0. The subway csv file is ''MH_subway.csv'\" and the data structure is: mhsub.tail():\n",
    "               sub_station                    sub_address                         lat        long\n",
    "\n",
    "      17    190 Street Subway Station    Bennett Ave, New York, NY 10040, USA    40.858113    -73.932983\n",
    "\n",
    "      18    59 St-Lexington Av Station    E 60th St, New York, NY 10065, USA        40.762259    -73.966271\n",
    "\n",
    "      19    57 Street Station    New York, NY 10019, United States                40.764250    -73.954525\n",
    "\n",
    "      20    14 Street / 8 Av    New York, NY 10014, United States                40.730862    -73.987156\n",
    "\n",
    "      21    MTA New York City    525 11th Ave, New York, NY 10018, USA            40.759809    -73.999282\n",
    "A list of places for rent was collected by web-browsing real estate companies in Manhattan : http://www.rentmanhattan.com/index.cfm?page=search&state=results https://www.nestpick.com/search?city=new-york&page=1&order=relevance&district=manhattan&gclid=CjwKCAiAjNjgBRAgEiwAGLlf2hkP3A-cPxjZYkURqQEswQK2jKQEpv_MvKcrIhRWRzNkc_r-fGi0lxoCA7cQAvD_BwE&type=apartment&display=list https://www.realtor.com/apartments/Manhattan_NY\n",
    "A csv file was compiled with the rental place that indicated: areas of Manhattan, address, number of beds, area and monthly rental price. The csv file \"nnnn.csv\" had the following below structure. An algorythm was used to create all the geodata using Nominatim, as shown in section 3.0. The actual algorythm coding may be shown in 'markdown' mode becasues it takes time to run. With the use of geolocator = Nominatim() , it was possible to determine the latitude and longiude for the subway metro locations as well as for the geodata for each rental place listed. The loop algorythms used are shown in the execution of data in section 3.0\n",
    "\"Great_circle\" function from geolocator was used to calculate distances between two points , as in the case to calculate average rent price for units around each subway station and at 1.6 km radius.\n",
    "Foursquare is used to find the avenues at Manhattan neighborhoods in general and a cluster is created to later be able to search for the venues depending of the location shown.\n",
    "\n",
    "### 2.4 How the data will be used to solve the problem\n",
    "The data will be used as follows:\n",
    "Use Foursquare and geopy data to map top 10 venues for all Manhattan neighborhoods and clustered in groups ( as per Course LAB)\n",
    "Use foursquare and geopy data to map the location of subway metro stations , separately and on top of the above clustered map in order to be able to identify the venues and ammenities near each metro station, or explore each subway location separately\n",
    "Use Foursquare and geopy data to map the location of rental places, in some form, linked to the subway locations.\n",
    "create a map that depicts, for instance, the average rental price per square ft, around a radious of 1.0 mile (1.6 km) around each subway station - or a similar metrics. I will be able to quickly point to the popups to know the relative price per subway area.\n",
    "Addresses from rental locations will be converted to geodata( lat, long) using Geopy-distance and Nominatim.\n",
    "Data will be searched in open data sources if available, from real estate sites if open to reading, libraries or other government agencies such as Metro New York MTA, etc.\n",
    "\n",
    "### 2.5 Mapping of Data\n",
    "The following maps were created to facilitate the analysis and the choice of the palace to live.\n",
    "Manhattan map of Neighborhoods\n",
    "manhattan subway metro locations\n",
    "Manhattan map of places for rent\n",
    "Manhattan map of clustered venues and neighborhoods\n",
    "Combined maps of Manhattan rent places with subway locations\n",
    "Combined maps of Manhattan rent places with subway locations and venues clusters"
   ]
  },
  {
   "cell_type": "markdown",
   "metadata": {},
   "source": [
    "\n",
    "## 3. Methodology section:\n",
    "\n",
    "This section represents the main component of the report where the data is gathered, prepared for analysis. The tools described are used here and the Notebook cells indicates the execution of steps. \n",
    "\n",
    "### The analysis and the stragegy:\n",
    "The strategy is based on mapping the above described data in section 2.0, in order to facilitate the choice of at least two candidate places for rent. The choice is made based on the demands imposed : location near a subway, rental price and similar venues to Singapore. This visual approach and maps with popups labels allow quick identification of  location, price and feature, thus  making the selection very easy. \n",
    "\n",
    "The procesing of these DATA and its mapping will allow to answer the key questions to make a decision:\n",
    "- what is the cost of available rental places that meet the demands?\n",
    "- what is the cost of rent around a mile radius from each subway metro station?\n",
    "- what is the area of Manhattan with best rental pricing that meets criteria established?\n",
    "- What is the distance from work place ( Park Ave and 53 rd St) and the tentative future rental home?\n",
    "- What are the venues of the two best places to live? How the prices compare?\n",
    "- How venues distribute among Manhattan neighborhoods and around metro stations?\n",
    "- Are there tradeoffs between size and price and location?\n",
    "- Any other interesting statistical data findings of the real estate and overall data."
   ]
  },
  {
   "cell_type": "markdown",
   "metadata": {},
   "source": [
    "#      METHODOLOY EXECUTION  - Mapping Data"
   ]
  },
  {
   "cell_type": "markdown",
   "metadata": {},
   "source": [
    "## Singapore Map - Current residence and venues in neighborhood\n",
    "for comparison to future Manhattan renting place"
   ]
  },
  {
   "cell_type": "code",
   "execution_count": null,
   "metadata": {
    "collapsed": false
   },
   "outputs": [],
   "source": [
    "# Shenton Way, District 01, Singapore\n",
    "address = 'Mccallum Street, Singapore'\n",
    "geolocator = Nominatim()\n",
    "location = geolocator.geocode(address)\n",
    "latitude = location.latitude\n",
    "longitude = location.longitude\n",
    "print('The geograpical coordinate of Singapore home are {}, {}.'.format(latitude, longitude))"
   ]
  },
  {
   "cell_type": "code",
   "execution_count": null,
   "metadata": {
    "collapsed": true
   },
   "outputs": [],
   "source": [
    "neighborhood_latitude=1.2792655\n",
    "neighborhood_longitude=103.8480938"
   ]
  },
  {
   "cell_type": "markdown",
   "metadata": {},
   "source": [
    "## Dial FourSquare to find venues around current residence in Singapore"
   ]
  },
  {
   "cell_type": "code",
   "execution_count": null,
   "metadata": {
    "collapsed": true
   },
   "outputs": [],
   "source": [
    "CLIENT_ID = 'DVCxxxxxxxxxxxxxxxxxxxC0CFLF1T' # your Foursquare ID\n",
    "CLIENT_SECRET = '5NWAGyyyyyyyyyyyyyyyyyyyyyyyyLFWL1' # your Foursquare Secret\n",
    "VERSION = '2xxxxxxxxxxxxxxxxxx5' # Foursquare API version"
   ]
  },
  {
   "cell_type": "code",
   "execution_count": null,
   "metadata": {
    "collapsed": false
   },
   "outputs": [],
   "source": [
    "LIMIT = 100 # limit of number of venues returned by Foursquare API\n",
    "radius = 500 # define radius\n",
    "# create URL\n",
    "url = 'https://api.foursquare.com/v2/venues/explore?&client_id={}&client_secret={}&v={}&ll={},{}&radius={}&limit={}'.format(\n",
    "    CLIENT_ID, \n",
    "    CLIENT_SECRET, \n",
    "    VERSION, \n",
    "    neighborhood_latitude, \n",
    "    neighborhood_longitude, \n",
    "    radius, \n",
    "    LIMIT)\n",
    "url # display URL"
   ]
  },
  {
   "cell_type": "code",
   "execution_count": null,
   "metadata": {
    "collapsed": true
   },
   "outputs": [],
   "source": [
    "# results display is hidden for report simplification \n",
    "results = requests.get(url).json()\n",
    "#results "
   ]
  },
  {
   "cell_type": "markdown",
   "metadata": {},
   "source": [
    "#### function that extracts the category of the venue - borrow from the Foursquare lab."
   ]
  },
  {
   "cell_type": "code",
   "execution_count": null,
   "metadata": {
    "collapsed": true
   },
   "outputs": [],
   "source": [
    "def get_category_type(row):\n",
    "    try:\n",
    "        categories_list = row['categories']\n",
    "    except:\n",
    "        categories_list = row['venue.categories']\n",
    "        \n",
    "    if len(categories_list) == 0:\n",
    "        return None\n",
    "    else:\n",
    "        return categories_list[0]['name']"
   ]
  },
  {
   "cell_type": "code",
   "execution_count": null,
   "metadata": {
    "collapsed": false
   },
   "outputs": [],
   "source": [
    "venues = results['response']['groups'][0]['items']\n",
    "SGnearby_venues = json_normalize(venues) # flatten JSON\n",
    "# filter columns\n",
    "filtered_columns = ['venue.name', 'venue.categories', 'venue.location.lat', 'venue.location.lng']\n",
    "SGnearby_venues =SGnearby_venues.loc[:, filtered_columns]\n",
    "# filter the category for each row\n",
    "SGnearby_venues['venue.categories'] = SGnearby_venues.apply(get_category_type, axis=1)\n",
    "# clean columns\n",
    "SGnearby_venues.columns = [col.split(\".\")[-1] for col in SGnearby_venues.columns]\n",
    "\n",
    "SGnearby_venues.shape"
   ]
  },
  {
   "cell_type": "code",
   "execution_count": null,
   "metadata": {
    "collapsed": false
   },
   "outputs": [],
   "source": [
    "# Venues near current Singapore residence place\n",
    "SGnearby_venues.head(10)"
   ]
  },
  {
   "cell_type": "markdown",
   "metadata": {},
   "source": [
    "## Map of Singapore residence place with venues in Neighborhood - for reference"
   ]
  },
  {
   "cell_type": "code",
   "execution_count": null,
   "metadata": {
    "collapsed": false
   },
   "outputs": [],
   "source": [
    "latitude=1.2792655\n",
    "longitude=103.8480938\n",
    "# create map of Singapore place  using latitude and longitude values\n",
    "map_sg = folium.Map(location=[latitude, longitude], zoom_start=18)\n",
    "# add markers to map\n",
    "for lat, lng, label in zip(SGnearby_venues['lat'], SGnearby_venues['lng'], SGnearby_venues['name']):\n",
    "    label = folium.Popup(label, parse_html=True)\n",
    "    folium.RegularPolygonMarker(\n",
    "        [lat, lng],\n",
    "        number_of_sides=30,\n",
    "        radius=7,\n",
    "        popup=label,\n",
    "        color='blue',\n",
    "        fill_color='#0f0f0f',\n",
    "        fill_opacity=0.6,\n",
    "    ).add_to(map_sg)  \n",
    "    \n",
    "map_sg"
   ]
  },
  {
   "cell_type": "markdown",
   "metadata": {},
   "source": [
    "# MANHATTAN NEIGHBORHOODS - DATA AND MAPPING \n",
    "## Cluster neighborhood data was produced with Foursquare during course lab work. A csv file was produced containing the neighborhoods around the 40 Boroughs. Now, the csv file is just read for convenience and consolidation of report."
   ]
  },
  {
   "cell_type": "code",
   "execution_count": null,
   "metadata": {
    "collapsed": false
   },
   "outputs": [],
   "source": [
    "# Read csv file with clustered neighborhoods with geodata\n",
    "manhattan_data  = pd.read_csv('mh_neigh_data.csv') \n",
    "manhattan_data.head()"
   ]
  },
  {
   "cell_type": "code",
   "execution_count": null,
   "metadata": {
    "collapsed": true
   },
   "outputs": [],
   "source": [
    "manhattan_data.tail()"
   ]
  },
  {
   "cell_type": "markdown",
   "metadata": {},
   "source": [
    "# Manhattan Borough neighborhoods - data with top 10 clustered venues\n"
   ]
  },
  {
   "cell_type": "code",
   "execution_count": null,
   "metadata": {
    "collapsed": false
   },
   "outputs": [],
   "source": [
    "manhattan_merged = pd.read_csv('manhattan_merged.csv')\n",
    "manhattan_merged.head()"
   ]
  },
  {
   "cell_type": "markdown",
   "metadata": {},
   "source": [
    "# Map of Manhattan neighborhoods with top 10 clustered venues\n",
    "\n",
    "## popus   allow to identify each neighborhood and the cluster of venues around it in order to proceed to examine in more detail in the next cell"
   ]
  },
  {
   "cell_type": "code",
   "execution_count": null,
   "metadata": {
    "collapsed": true
   },
   "outputs": [],
   "source": [
    "# create map of Manhattan using latitude and longitude values from Nominatim\n",
    "latitude= 40.7308619\n",
    "longitude= -73.9871558 \n",
    "\n",
    "kclusters=5\n",
    "map_clusters = folium.Map(location=[latitude, longitude], zoom_start=13)\n",
    "\n",
    "# set color scheme for the clusters\n",
    "x = np.arange(kclusters)\n",
    "ys = [i+x+(i*x)**2 for i in range(kclusters)]\n",
    "colors_array = cm.rainbow(np.linspace(0, 1, len(ys)))\n",
    "rainbow = [colors.rgb2hex(i) for i in colors_array]\n",
    "\n",
    "# add markers to the map\n",
    "markers_colors = []\n",
    "for lat, lon, poi, cluster in zip(manhattan_merged['Latitude'], manhattan_merged['Longitude'], manhattan_merged['Neighborhood'], manhattan_merged['Cluster Labels']):\n",
    "    label = folium.Popup(str(poi) + ' Cluster ' + str(cluster), parse_html=True)\n",
    "    folium.CircleMarker(\n",
    "        [lat, lon],\n",
    "        radius=20,\n",
    "        popup=label,\n",
    "        color=rainbow[cluster-1],\n",
    "        fill=True,\n",
    "        fill_color=rainbow[cluster-1],\n",
    "        fill_opacity=0.7).add_to(map_clusters)\n",
    "  # add markers for rental places to map\n",
    "for lat, lng, label in zip(manhattan_data['Latitude'], manhattan_data['Longitude'], manhattan_data['Neighborhood']):\n",
    "    label = folium.Popup(label, parse_html=True)\n",
    "    folium.CircleMarker(\n",
    "        [lat, lng],\n",
    "        radius=5,\n",
    "        popup=label,\n",
    "        color='blue',\n",
    "        fill=True,\n",
    "        fill_color='#3186cc',\n",
    "        fill_opacity=0.7,\n",
    "        parse_html=False).add_to(map_clusters)    \n",
    "    \n",
    "       \n",
    "map_clusters"
   ]
  },
  {
   "cell_type": "markdown",
   "metadata": {},
   "source": [
    "## Examine a paticular Cluster - print venues\n",
    "\n",
    "### After examining several cluster data , I concluded that cluster # 2 resembles closer the Singapore place, therefore providing guidance as to where to look for the future apartment .\n",
    "### Assign a value to 'kk' to explore a given cluster."
   ]
  },
  {
   "cell_type": "code",
   "execution_count": null,
   "metadata": {
    "collapsed": true
   },
   "outputs": [],
   "source": [
    "## kk is the cluster number to explore\n",
    "kk = 2\n",
    "manhattan_merged.loc[manhattan_merged['Cluster Labels'] == kk, manhattan_merged.columns[[1] + list(range(5, manhattan_merged.shape[1]))]]"
   ]
  },
  {
   "cell_type": "markdown",
   "metadata": {},
   "source": [
    "# Map of Manhattan places for rent\n",
    "\n",
    "## Several Manhattan real estate webs were webscrapped to collect rental data, as mentioned in section 2.0 . The resut was summarized in a csv file for direct reading, in order to consolidate the proces. \n",
    "### The initial data for 144 apartment did not have the latitude and longitude data (NaN) but the information was established in the following cell using an algorythm and Nominatim."
   ]
  },
  {
   "cell_type": "code",
   "execution_count": null,
   "metadata": {
    "collapsed": true
   },
   "outputs": [],
   "source": [
    "# csv files with rental places with basic data but still wihtout geodata ( latitude and longitude)\n",
    "# pd.read_csv(' le.csv', header=None, nrows=5)\n",
    "mh_rent=pd.read_csv('MH_flats_price.csv')\n",
    "mh_rent.head()"
   ]
  },
  {
   "cell_type": "code",
   "execution_count": null,
   "metadata": {
    "collapsed": true
   },
   "outputs": [],
   "source": [
    "mh_rent.tail()"
   ]
  },
  {
   "cell_type": "markdown",
   "metadata": {},
   "source": [
    "## Obtain geodata ( lat,long) for each rental place in Manhattan with Nominatim\n",
    "\n",
    "### Data  was stored in a csv file for simplifaction report purposes and saving code processing time in future."
   ]
  },
  {
   "cell_type": "code",
   "execution_count": null,
   "metadata": {
    "collapsed": true
   },
   "outputs": [],
   "source": [
    "## This section may be 'markedown' for the report because its execution takes few minutes .\n",
    "## Terefore, the csv previusly made may be just read directly.   \n",
    "\n",
    "for n in range(len(mh_rent)):   \n",
    "    address= mh_rent['Address'][n]\n",
    "    address=(mh_rent['Address'][n]+ '  , '+' Manhattan NY ')\n",
    "    geolocator = Nominatim()\n",
    "    location = geolocator.geocode(address)\n",
    "    latitude = location.latitude\n",
    "    longitude = location.longitude\n",
    "    mh_rent['Lat'][n]=latitude\n",
    "    mh_rent['Long'][n]=longitude\n",
    "    #print(n,latitude,longitude)\n",
    "    time.sleep(2)\n",
    "\n",
    "print('Geodata completed')\n",
    "# save dataframe to csv file\n",
    "mh_rent.to_csv('MH_rent_latlong.csv',index=False)\n",
    "mh_rent.shape"
   ]
  },
  {
   "cell_type": "code",
   "execution_count": null,
   "metadata": {
    "collapsed": true
   },
   "outputs": [],
   "source": [
    "mh_rent=pd.read_csv('MH_rent_latlong.csv')\n",
    "mh_rent.head()"
   ]
  },
  {
   "cell_type": "code",
   "execution_count": null,
   "metadata": {
    "collapsed": true
   },
   "outputs": [],
   "source": [
    "mh_rent.tail()"
   ]
  },
  {
   "cell_type": "markdown",
   "metadata": {},
   "source": [
    "# Manhattan apartment rent price statistics\n",
    "### A US 7000 Dollar per month rent is actually around the mean value - similar to Singapore! wow!"
   ]
  },
  {
   "cell_type": "code",
   "execution_count": null,
   "metadata": {
    "collapsed": true
   },
   "outputs": [],
   "source": [
    "import seaborn as sns\n",
    "sns.distplot(mh_rent['Rent_Price'],bins=15)"
   ]
  },
  {
   "cell_type": "code",
   "execution_count": null,
   "metadata": {
    "collapsed": true
   },
   "outputs": [],
   "source": [
    "import seaborn as sns\n",
    "sns.distplot(mh_rent['Price_per_ft2'],bins=15)"
   ]
  },
  {
   "cell_type": "code",
   "execution_count": null,
   "metadata": {
    "collapsed": true
   },
   "outputs": [],
   "source": [
    "sns.boxplot(x='Rooms', y= 'Rent_Price', data=mh_rent)"
   ]
  },
  {
   "cell_type": "markdown",
   "metadata": {},
   "source": [
    "# Map of Manhattan apartments for rent \n",
    "### The popups will indicate the address and the monthly price for rent thus making it convenient to select the target appartment with the price condition estipulated (max US7000 )"
   ]
  },
  {
   "cell_type": "code",
   "execution_count": null,
   "metadata": {
    "collapsed": true
   },
   "outputs": [],
   "source": [
    "# create map of Manhattan using latitude and longitude values from Nominatim\n",
    "latitude= 40.7308619\n",
    "longitude= -73.9871558\n",
    "\n",
    "map_manhattan_rent = folium.Map(location=[latitude, longitude], zoom_start=12.5)\n",
    "\n",
    "# add markers to map\n",
    "for lat, lng, label in zip(mh_rent['Lat'], mh_rent['Long'],'$ ' + mh_rent['Rent_Price'].astype(str)+ ',  '+ mh_rent['Address']):      \n",
    "    label = folium.Popup(label, parse_html=True)\n",
    "    folium.CircleMarker(\n",
    "        [lat, lng],\n",
    "        radius=6,\n",
    "        popup=label,\n",
    "        color='blue',\n",
    "        fill=True,\n",
    "        fill_color='#3186cc',\n",
    "        fill_opacity=0.7,\n",
    "        parse_html=False).add_to(map_manhattan_rent) \n",
    "    \n",
    "\n",
    "map_manhattan_rent"
   ]
  },
  {
   "cell_type": "markdown",
   "metadata": {},
   "source": [
    "# Map of Manhattan showing the places for rent and the cluster of venues \n",
    "### Now, one can point to a rental place for price and address location information while knowing the cluster venues around it.\n",
    "### This is an insightful way to explore rental possibilites"
   ]
  },
  {
   "cell_type": "code",
   "execution_count": null,
   "metadata": {
    "collapsed": true
   },
   "outputs": [],
   "source": [
    "# create map of Manhattan using latitude and longitude values from Nominatim\n",
    "latitude= 40.7308619\n",
    "longitude= -73.9871558\n",
    "\n",
    "# create map with clusters\n",
    "kclusters=5\n",
    "map_clusters2 = folium.Map(location=[latitude, longitude], zoom_start=13)\n",
    "\n",
    "# set color scheme for the clusters\n",
    "x = np.arange(kclusters)\n",
    "ys = [i+x+(i*x)**2 for i in range(kclusters)]\n",
    "colors_array = cm.rainbow(np.linspace(0, 1, len(ys)))\n",
    "rainbow = [colors.rgb2hex(i) for i in colors_array]\n",
    "\n",
    "# add markers to the map\n",
    "markers_colors = []\n",
    "for lat, lon, poi, cluster in zip(manhattan_merged['Latitude'], manhattan_merged['Longitude'], manhattan_merged['Neighborhood'], manhattan_merged['Cluster Labels']):\n",
    "    label = folium.Popup(str(poi) + ' Cluster ' + str(cluster), parse_html=True)\n",
    "    folium.CircleMarker(\n",
    "        [lat, lon],\n",
    "        radius=20,\n",
    "        popup=label,\n",
    "        color=rainbow[cluster-1],\n",
    "        fill=True,\n",
    "        fill_color=rainbow[cluster-1],\n",
    "        fill_opacity=0.7).add_to(map_clusters2)\n",
    "\n",
    "# add markers to map for rental places\n",
    "for lat, lng, label in zip(mh_rent['Lat'], mh_rent['Long'],'$ ' + mh_rent['Rent_Price'].astype(str)+ mh_rent['Address']):      \n",
    "    label = folium.Popup(label, parse_html=True)\n",
    "    folium.CircleMarker(\n",
    "        [lat, lng],\n",
    "        radius=6,\n",
    "        popup=label,\n",
    "        color='blue',\n",
    "        fill=True,\n",
    "        fill_color='#3186cc',\n",
    "        fill_opacity=0.7,\n",
    "        parse_html=False).add_to(map_clusters2)  \n",
    "    \n",
    "    # Adds tool to the top right\n",
    "from folium.plugins import MeasureControl\n",
    "map_manhattan_rent.add_child(MeasureControl())\n",
    "\n",
    "# FMeasurement ruler icon to establish distnces on map\n",
    "from folium.plugins import FloatImage\n",
    "url = ('https://media.licdn.com/mpr/mpr/shrinknp_100_100/AAEAAQAAAAAAAAlgAAAAJGE3OTA4YTdlLTkzZjUtNDFjYy1iZThlLWQ5OTNkYzlhNzM4OQ.jpg')\n",
    "FloatImage(url, bottom=5, left=85).add_to(map_manhattan_rent)\n",
    "\n",
    "map_clusters2\n"
   ]
  },
  {
   "cell_type": "markdown",
   "metadata": {},
   "source": [
    "# Now one can explore a particular rental place and its venues in detail\n",
    "\n",
    "## In the map above, examination of appartments with rental place below 7000/month is straightforwad while knowing the venues around it. \n",
    "## We could find an appartment with at the right price and in a location with desirable venues. The next step is to see if it is located near a subway metro station, in next cells work."
   ]
  },
  {
   "cell_type": "code",
   "execution_count": null,
   "metadata": {
    "collapsed": true
   },
   "outputs": [],
   "source": [
    "## kk is the cluster number to explore\n",
    "kk = 3\n",
    "manhattan_merged.loc[manhattan_merged['Cluster Labels'] == kk, manhattan_merged.columns[[1] + list(range(5, manhattan_merged.shape[1]))]]"
   ]
  },
  {
   "cell_type": "markdown",
   "metadata": {},
   "source": [
    "# Mapping Manhattan Subway locations\n",
    "### Manhattan subway metro locations ( address) was obtained from webscrapping sites such as Wikipedia, Google and NY Metro Transit.  For simplification, a csv file was produced from the 'numbers' (Apple excel ) so that the reading of this file is the starting point here.\n",
    "\n",
    "### The geodata will be obtain via Nominatim using the algorythm below."
   ]
  },
  {
   "cell_type": "code",
   "execution_count": null,
   "metadata": {
    "collapsed": true
   },
   "outputs": [],
   "source": [
    "# A csv file summarized the subway station and the addresses for next step to determine geodata\n",
    "mh=pd.read_csv('NYC_subway_list.csv')\n",
    "mh.head()"
   ]
  },
  {
   "cell_type": "markdown",
   "metadata": {},
   "source": [
    "### Add colums labeled 'lat' and 'long' to be filled with geodata"
   ]
  },
  {
   "cell_type": "code",
   "execution_count": null,
   "metadata": {
    "collapsed": true
   },
   "outputs": [],
   "source": [
    "#  Add columns 'lat'  and 'long' to mh dataframe - with random temporary numbers to get started\n",
    "sLength = len(mh['sub_station'])\n",
    "lat = pd.Series(np.random.randn(sLength))\n",
    "long=pd.Series(np.random.randn(sLength))\n",
    "mh = mh.assign(lat=lat.values)\n",
    "mh = mh.assign(long=long.values)"
   ]
  },
  {
   "cell_type": "code",
   "execution_count": null,
   "metadata": {
    "collapsed": true
   },
   "outputs": [],
   "source": [
    "## Algorythm to find latitude and longitud for each subway metro station and add them to dataframe\n",
    "\n",
    "for n in range(len(mh)):\n",
    "    address= mh['sub_address'][n]\n",
    "    geolocator = Nominatim()\n",
    "    location = geolocator.geocode(address)\n",
    "    latitude = location.latitude\n",
    "    longitude = location.longitude\n",
    "    mh['lat'][n]=latitude\n",
    "    mh['long'][n]=longitude\n",
    "    #print(n,latitude,longitude)\n",
    "    time.sleep(2)\n",
    "\n",
    "print('Geodata completed')\n",
    "# save dataframe to csv file\n",
    "mh.to_csv('MH_subway.csv',index=False)\n",
    "mh.shape"
   ]
  },
  {
   "cell_type": "code",
   "execution_count": null,
   "metadata": {
    "collapsed": true
   },
   "outputs": [],
   "source": [
    "mh=pd.read_csv('MH_subway.csv')\n",
    "print(mh.shape)\n",
    "mh.head()"
   ]
  },
  {
   "cell_type": "code",
   "execution_count": null,
   "metadata": {
    "collapsed": true
   },
   "outputs": [],
   "source": [
    "# removing duplicate rows and creating new set mhsub1\n",
    "mhsub1=mh.drop_duplicates(subset=['lat','long'], keep=\"last\").reset_index(drop=True)\n",
    "mhsub1.shape"
   ]
  },
  {
   "cell_type": "code",
   "execution_count": null,
   "metadata": {
    "collapsed": true
   },
   "outputs": [],
   "source": [
    "mhsub1.tail()"
   ]
  },
  {
   "cell_type": "markdown",
   "metadata": {},
   "source": [
    "## MAP of Manhattan showing the location of subway stations"
   ]
  },
  {
   "cell_type": "code",
   "execution_count": null,
   "metadata": {
    "collapsed": true
   },
   "outputs": [],
   "source": [
    "# map subway stations \n",
    "# create map of Manhattan using latitude and longitude values obtain previoulsy via Moninatim geolocator\n",
    "latitude=40.7308619\n",
    "longitude=-73.9871558\n",
    "\n",
    "map_mhsub1 = folium.Map(location=[latitude, longitude], zoom_start=12)\n",
    "\n",
    "# add markers of subway locations to map\n",
    "for lat, lng, label in zip(mhsub1['lat'], mhsub1['long'],  mhsub1['sub_station'].astype(str) ):\n",
    "    label = folium.Popup(label, parse_html=True)\n",
    "    folium.RegularPolygonMarker(\n",
    "        [lat, lng],\n",
    "        number_of_sides=6,\n",
    "        radius=6,\n",
    "        popup=label,\n",
    "        color='red',\n",
    "        fill_color='red',\n",
    "        fill_opacity=2.5,\n",
    "    ).add_to(map_mhsub1) \n",
    "map_mhsub1"
   ]
  },
  {
   "cell_type": "markdown",
   "metadata": {},
   "source": [
    "# Map of Manhattan showing places for rent and the subway locations nearby\n",
    "\n",
    "## Now, we can visualize the desirable rental places and their nearest subway station. Popups display rental address and monthly rental price and the subway station name.\n",
    "### Notice that the icon in the top-right corner is a \"ruler\" that allows to measure the distance from a rental place to an specific subway station\n"
   ]
  },
  {
   "cell_type": "code",
   "execution_count": null,
   "metadata": {
    "collapsed": true
   },
   "outputs": [],
   "source": [
    "mh_rent.head()"
   ]
  },
  {
   "cell_type": "code",
   "execution_count": null,
   "metadata": {
    "collapsed": true
   },
   "outputs": [],
   "source": [
    "# create map of Manhattan using latitude and longitude values from Nominatim\n",
    "latitude= 40.7308619\n",
    "longitude= -73.9871558\n",
    "\n",
    "map_manhattan_rent = folium.Map(location=[latitude, longitude], zoom_start=13.3)\n",
    "\n",
    "# add markers to map\n",
    "for lat, lng, label in zip(mh_rent['Lat'], mh_rent['Long'],'$ ' + mh_rent['Rent_Price'].astype(str)+ mh_rent['Address']):      \n",
    "    label = folium.Popup(label, parse_html=True)\n",
    "    folium.CircleMarker(\n",
    "        [lat, lng],\n",
    "        radius=6,\n",
    "        popup=label,\n",
    "        color='blue',\n",
    "        fill=True,\n",
    "        fill_color='#3186cc',\n",
    "        fill_opacity=0.7,\n",
    "        parse_html=False).add_to(map_manhattan_rent) \n",
    "    \n",
    "    # add markers of subway locations to map\n",
    "for lat, lng, label in zip(mhsub1['lat'], mhsub1['long'],  mhsub1['sub_station'].astype(str) ):\n",
    "    label = folium.Popup(label, parse_html=True)\n",
    "    folium.RegularPolygonMarker(\n",
    "        [lat, lng],\n",
    "        number_of_sides=6,\n",
    "        radius=6,\n",
    "        popup=label,\n",
    "        color='red',\n",
    "        fill_color='red',\n",
    "        fill_opacity=2.5,\n",
    "    ).add_to(map_manhattan_rent) \n",
    "    \n",
    "    # Adds tool to the top right\n",
    "from folium.plugins import MeasureControl\n",
    "map_manhattan_rent.add_child(MeasureControl())\n",
    "\n",
    "# Measurement ruler icon tool to measure distances in map\n",
    "from folium.plugins import FloatImage\n",
    "url = ('https://media.licdn.com/mpr/mpr/shrinknp_100_100/AAEAAQAAAAAAAAlgAAAAJGE3OTA4YTdlLTkzZjUtNDFjYy1iZThlLWQ5OTNkYzlhNzM4OQ.jpg')\n",
    "FloatImage(url, bottom=5, left=85).add_to(map_manhattan_rent)\n",
    "\n",
    "map_manhattan_rent"
   ]
  },
  {
   "cell_type": "markdown",
   "metadata": {},
   "source": [
    "# 4.0 Results\n",
    "\n",
    "## ONE CONSOLIDATE MAP\n",
    "### Let's consolidate all the required inforamtion to make the apartment selection in one map\n"
   ]
  },
  {
   "cell_type": "markdown",
   "metadata": {},
   "source": [
    "# Map of Manhattan with rental places, subway locations and cluster of venues\n",
    "###  Red dots are Subway stations, Blue dots are apartments available for rent, Bubbles are the clusters of venues"
   ]
  },
  {
   "cell_type": "code",
   "execution_count": null,
   "metadata": {
    "collapsed": false
   },
   "outputs": [],
   "source": [
    "# create map of Manhattan using latitude and longitude values from Nominatim\n",
    "latitude= 40.7308619\n",
    "longitude= -73.9871558\n",
    "\n",
    "map_mh_one = folium.Map(location=[latitude, longitude], zoom_start=13.3)\n",
    "\n",
    "# add markers to map\n",
    "for lat, lng, label in zip(mh_rent['Lat'], mh_rent['Long'],'$ ' + mh_rent['Rent_Price'].astype(str)+ ', '+mh_rent['Address']):      \n",
    "    label = folium.Popup(label, parse_html=True)\n",
    "    folium.CircleMarker(\n",
    "        [lat, lng],\n",
    "        radius=6,\n",
    "        popup=label,\n",
    "        color='blue',\n",
    "        fill=True,\n",
    "        fill_color='#3186cc',\n",
    "        fill_opacity=0.7,\n",
    "        parse_html=False).add_to(map_mh_one) \n",
    "    \n",
    "    # add markers of subway locations to map\n",
    "for lat, lng, label in zip(mhsub1['lat'], mhsub1['long'],  mhsub1['sub_station'].astype(str) ):\n",
    "    label = folium.Popup(label, parse_html=True)\n",
    "    folium.RegularPolygonMarker(\n",
    "        [lat, lng],\n",
    "        number_of_sides=6,\n",
    "        radius=6,\n",
    "        popup=label,\n",
    "        color='red',\n",
    "        fill_color='red',\n",
    "        fill_opacity=2.5,\n",
    "    ).add_to(map_mh_one) \n",
    "\n",
    "\n",
    "# set color scheme for the clusters\n",
    "kclusters=5\n",
    "x = np.arange(kclusters)\n",
    "ys = [i+x+(i*x)**2 for i in range(kclusters)]\n",
    "colors_array = cm.rainbow(np.linspace(0, 1, len(ys)))\n",
    "rainbow = [colors.rgb2hex(i) for i in colors_array]\n",
    "\n",
    "# add markers to the map\n",
    "markers_colors = []\n",
    "for lat, lon, poi, cluster in zip(manhattan_merged['Latitude'], manhattan_merged['Longitude'], manhattan_merged['Neighborhood'], manhattan_merged['Cluster Labels']):\n",
    "    label = folium.Popup(str(poi) + ' Cluster ' + str(cluster), parse_html=True)\n",
    "    folium.CircleMarker(\n",
    "        [lat, lon],\n",
    "        radius=15,\n",
    "        popup=label,\n",
    "        color=rainbow[cluster-1],\n",
    "        fill=True,\n",
    "        fill_color=rainbow[cluster-1],\n",
    "        fill_opacity=0.7).add_to(map_mh_one)\n",
    "\n",
    "    # Adds tool to the top right\n",
    "from folium.plugins import MeasureControl\n",
    "map_mh_one.add_child(MeasureControl())\n",
    "\n",
    "# Measurement ruler icon tool to measure distances in map\n",
    "from folium.plugins import FloatImage\n",
    "url = ('https://media.licdn.com/mpr/mpr/shrinknp_100_100/AAEAAQAAAAAAAAlgAAAAJGE3OTA4YTdlLTkzZjUtNDFjYy1iZThlLWQ5OTNkYzlhNzM4OQ.jpg')\n",
    "FloatImage(url, bottom=5, left=85).add_to(map_mh_one)\n",
    "\n",
    "map_mh_one"
   ]
  },
  {
   "cell_type": "markdown",
   "metadata": {},
   "source": [
    "# Problem Resolution"
   ]
  },
  {
   "cell_type": "markdown",
   "metadata": {},
   "source": [
    "## The above consolidate map was used to explore options.  \n",
    "### After examining, I have chosen two locations that meet the requirements which will assess to make a choice.\n",
    "\n",
    "- Apartment 1: \n",
    "    305 East 63rd Street in the Sutton Place Neighborhood and near 'subway 59th Street' station, Cluster # 2\n",
    "    Monthly rent : 7500 Dollars\n",
    "    \n",
    "- Apartment 2: \n",
    "    19 Dutch Street in the Financial District Neighborhood and near 'Fulton Street Subway' station, Cluster # 3\n",
    "    Monthly rent : 6935 Dollars\n",
    " "
   ]
  },
  {
   "cell_type": "markdown",
   "metadata": {},
   "source": [
    "## Venues for Apartment 1 - Cluster 2"
   ]
  },
  {
   "cell_type": "code",
   "execution_count": null,
   "metadata": {
    "collapsed": true
   },
   "outputs": [],
   "source": [
    "## kk is the cluster number to explore\n",
    "kk = 2\n",
    "manhattan_merged.loc[manhattan_merged['Cluster Labels'] == kk, manhattan_merged.columns[[1] + list(range(5, manhattan_merged.shape[1]))]]"
   ]
  },
  {
   "cell_type": "code",
   "execution_count": null,
   "metadata": {
    "collapsed": true
   },
   "outputs": [],
   "source": [
    "## Venues for Apartment 2 - Cluster 3"
   ]
  },
  {
   "cell_type": "code",
   "execution_count": null,
   "metadata": {
    "collapsed": true
   },
   "outputs": [],
   "source": [
    "## kk is the cluster number to explore\n",
    "kk = 3\n",
    "manhattan_merged.loc[manhattan_merged['Cluster Labels'] == kk, manhattan_merged.columns[[1] + list(range(5, manhattan_merged.shape[1]))]]"
   ]
  },
  {
   "cell_type": "markdown",
   "metadata": {},
   "source": [
    "# Apartment Selection\n",
    "\n",
    "## Using the \"one map\" above, I was able to explore all possibilities since the popups provide the information needed for a good decision.\n",
    "\n",
    "### Apartment 1 rent cost is US7500 slightly above the US7000 budget. Apt 1 is located 400 meters from subway station at 59th Street and work place ( Park Ave and 53rd) is another 600 meters way. I can walk to work place and use subway for other places aroung. Venues for this apt are as of Cluster 2 and it is located in a fine district in the East side of Manhattan.\n",
    "\n",
    "### Apartment 2 rent cost is US6935, just under the US7000 budget. Apt 2 is located 60 meters from subway station at Fulton Street, but I will have to ride the subway daily to work , possibly 40-60 min ride. Venues for this apt are as of Cluster 3.¶\n",
    "\n",
    "## Based on current Singapore venues, I feel that Cluster 2 type of venues is a closer resemblance to my current place. That means that APARTMENT 1 is a better choice since the extra monthly rent is worth the conveniences it provides."
   ]
  },
  {
   "cell_type": "markdown",
   "metadata": {},
   "source": [
    "# 5.0 DISCUSSION"
   ]
  },
  {
   "cell_type": "markdown",
   "metadata": {},
   "source": [
    "## In general, I am positively impressed with the overall organization, content and lab works presented during the Coursera IBM Certification Course\n",
    "## I feel this Capstone project presented me a great opportunity to practice and apply the Data Science tools and methodologies learned. \n",
    "## I have created a good project that I can present as an example to show my potential. \n",
    "## I feel I have acquired a good starting point to become a professional Data Scientist and I will continue exploring to creating examples of practical cases. "
   ]
  },
  {
   "cell_type": "markdown",
   "metadata": {},
   "source": [
    "# 6.0 CONCLUSIONS"
   ]
  },
  {
   "cell_type": "markdown",
   "metadata": {},
   "source": [
    "## I feel rewarded with the efforts, time and money spent. I believe this course with all the topics covered is well worthy of appreciation.\n",
    "## This project has shown me a practical application to resolve a real situation that has impacting personal and financial impact using Data Science tools.\n",
    "## The mapping with Folium is a very powerful technique to consolidate information and make the analysis and decision thoroughly and with confidence. I would recommend for use in similar situations.\n",
    "## One must keep abreast of new tools for DS that continue to appear for application in several business fields."
   ]
  },
  {
   "cell_type": "code",
   "execution_count": null,
   "metadata": {
    "collapsed": true
   },
   "outputs": [],
   "source": []
  }
 ],
 "metadata": {
  "kernelspec": {
   "display_name": "Python 3",
   "language": "python",
   "name": "python3"
  },
  "language_info": {
   "codemirror_mode": {
    "name": "ipython",
    "version": 3
   },
   "file_extension": ".py",
   "mimetype": "text/x-python",
   "name": "python",
   "nbconvert_exporter": "python",
   "pygments_lexer": "ipython3",
   "version": "3.5.4"
  }
 },
 "nbformat": 4,
 "nbformat_minor": 2
}
